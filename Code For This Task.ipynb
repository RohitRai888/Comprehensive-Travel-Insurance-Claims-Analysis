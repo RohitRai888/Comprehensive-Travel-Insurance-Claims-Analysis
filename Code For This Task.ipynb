{
  "nbformat": 4,
  "nbformat_minor": 0,
  "metadata": {
    "colab": {
      "provenance": []
    },
    "kernelspec": {
      "name": "python3",
      "display_name": "Python 3"
    },
    "language_info": {
      "name": "python"
    }
  },
  "cells": [
    {
      "cell_type": "markdown",
      "source": [
        "## Travel Insurance\n",
        "### Content:"
      ],
      "metadata": {
        "id": "c46zUPUd5nQG"
      }
    },
    {
      "cell_type": "markdown",
      "source": [
        "Data obtained from a third-party travel insurance servicing company that is based in\n",
        "Singapore."
      ],
      "metadata": {
        "id": "ZSZr_E785rsc"
      }
    },
    {
      "cell_type": "markdown",
      "source": [
        "### Format:\n",
        "1. Target: Claim Status (Claim.Status)\n",
        "2. Name of agency (Agency)\n",
        "3. Type of travel insurance agencies (Agency.Type)\n",
        "4. Distribution channel of travel insurance agencies (Distribution.Channel)\n",
        "5. Name of the travel insurance products (Product.Name)\n",
        "6. Duration of travel (Duration)\n",
        "7. Destination of travel (Destination)\n",
        "8. Amount of sales of travel insurance policies (Net.Sales)\n",
        "9. Commission received for travel insurance agency (Commission)\n",
        "10. Gender of insured (Gender)\n",
        "11. Age of insured (Age)\n"
      ],
      "metadata": {
        "id": "EWBvKjQ-5wp1"
      }
    },
    {
      "cell_type": "markdown",
      "source": [
        "### Task:\n",
        "1. Find the critical parameters for claiming the insurance.\n",
        "2. Build a model to predict the claim status"
      ],
      "metadata": {
        "id": "mROzG7hI59CC"
      }
    },
    {
      "cell_type": "markdown",
      "source": [
        "Here we will build a  model using a Random Forest Classifier to predict the claim status for travel insurance. Here's a breakdown of the intuition behind each step:\n",
        "\n",
        "* **Importing libraries**: We import the necessary libraries such as pandas, numpy, and scikit-learn to handle data manipulation, numerical operations, and machine learning algorithms.\n",
        "\n",
        "* **Loading the dataset:** We load the travel insurance dataset from a CSV file using pd.read_csv() into a pandas DataFrame. This allows us to access and analyze the data.\n",
        "\n",
        "* **Data preprocessing and exploration:** We perform initial data exploration to understand the dataset. We check the data types, identify missing values, and explore the distribution of the target variable (claim status). This step helps us identify any issues with the data and decide how to handle them.\n",
        "\n",
        "* **Feature selection and preprocessing:** We select the relevant features for modeling based on domain knowledge and analysis. We separate the selected features as the input (X) and the target variable (y). Categorical features are one-hot encoded to convert them into a numerical representation suitable for the model.\n",
        "\n",
        "* **Splitting the data:** We split the data into training and testing sets using train_test_split(). The training set is used to train the model, while the testing set is used to evaluate the model's performance on unseen data.\n",
        "\n",
        "* **Building the Random Forest Classifier model:** We create an instance of the Random Forest Classifier using RandomForestClassifier(). The Random Forest algorithm combines multiple decision trees to make predictions and handle complex relationships between features.\n",
        "\n",
        "* **Training the model:** We train the model using the training data by calling the fit() method on the classifier object. This step involves building multiple decision trees and aggregating their predictions to make the final prediction.\n",
        "\n",
        "* **Making predictions:** We use the trained model to predict the claim status for the test set using the predict() method. This allows us to evaluate how well the model generalizes to unseen data.\n",
        "\n",
        "* **Evaluating the model's performance:** We calculate the accuracy of the model by comparing the predicted claim status with the actual claim status using the accuracy_score() function. Accuracy is a common metric that measures the percentage of correctly predicted labels.\n",
        "\n",
        "* **Printing the accuracy:** Finally, we print or display the accuracy score to assess the performance of the model. A higher accuracy indicates a better predictive performance, but it's important to consider other evaluation metrics and further analyze the results to get a comprehensive understanding of the model's performance."
      ],
      "metadata": {
        "id": "nfJd4Wkz6I22"
      }
    },
    {
      "cell_type": "code",
      "source": [
        "import pandas as pd\n",
        "import numpy as np\n",
        "#import the LabelEncoder class from scikit-learn, which is used to encode categorical variables.\n",
        "from sklearn.preprocessing import LabelEncoder\n",
        "#import the train_test_split function from scikit-learn, which is used to split the data into training and testing sets.\n",
        "from sklearn.model_selection import train_test_split\n",
        "# import the RandomForestClassifier class from scikit-learn, which is an implementation of the random forest algorithm.\n",
        "from sklearn.ensemble import RandomForestClassifier\n",
        "# import the accuracy_score function from scikit-learn, which is used to calculate the accuracy of a classification model.\n",
        "from sklearn.metrics import accuracy_score"
      ],
      "metadata": {
        "id": "nSttpOgN8YyT"
      },
      "execution_count": 17,
      "outputs": []
    },
    {
      "cell_type": "markdown",
      "source": [
        "**Data Preparation:**"
      ],
      "metadata": {
        "id": "C4NkvLnN8-zY"
      }
    },
    {
      "cell_type": "markdown",
      "source": [
        "Read the travel insurance data from a CSV file and stores it in the data DataFrame."
      ],
      "metadata": {
        "id": "TH6ZzYvZ9JxL"
      }
    },
    {
      "cell_type": "code",
      "source": [
        "data = pd.read_csv('travel_insurance_data.csv')\n"
      ],
      "metadata": {
        "id": "fsa2QnQR9O1O"
      },
      "execution_count": 18,
      "outputs": []
    },
    {
      "cell_type": "markdown",
      "source": [
        "Display the first few rows of the dataset to get an overview of the data."
      ],
      "metadata": {
        "id": "JPVSX2Q49RWg"
      }
    },
    {
      "cell_type": "code",
      "source": [
        "print(data.head())\n"
      ],
      "metadata": {
        "colab": {
          "base_uri": "https://localhost:8080/"
        },
        "id": "goUxVc1k9V-l",
        "outputId": "39937d4a-f750-4821-8f4a-6766f58e9c10"
      },
      "execution_count": 19,
      "outputs": [
        {
          "output_type": "stream",
          "name": "stdout",
          "text": [
            "  Agency    Agency Type Distribution Channel                     Product Name  \\\n",
            "0    CBH  Travel Agency              Offline               Comprehensive Plan   \n",
            "1    CBH  Travel Agency              Offline               Comprehensive Plan   \n",
            "2    CWT  Travel Agency               Online  Rental Vehicle Excess Insurance   \n",
            "3    CWT  Travel Agency               Online  Rental Vehicle Excess Insurance   \n",
            "4    CWT  Travel Agency               Online  Rental Vehicle Excess Insurance   \n",
            "\n",
            "  Claim  Duration Destination  Net Sales  Commision (in value) Gender  Age  \n",
            "0    No       186    MALAYSIA      -29.0                  9.57      F   81  \n",
            "1    No       186    MALAYSIA      -29.0                  9.57      F   71  \n",
            "2    No        65   AUSTRALIA      -49.5                 29.70    NaN   32  \n",
            "3    No        60   AUSTRALIA      -39.6                 23.76    NaN   32  \n",
            "4    No        79       ITALY      -19.8                 11.88    NaN   41  \n"
          ]
        }
      ]
    },
    {
      "cell_type": "markdown",
      "source": [
        "Print information about the dataset, including the data types of each column and the presence of any missing values."
      ],
      "metadata": {
        "id": "Ai8ei5vr9YMN"
      }
    },
    {
      "cell_type": "code",
      "source": [
        "print(data.info())\n"
      ],
      "metadata": {
        "colab": {
          "base_uri": "https://localhost:8080/"
        },
        "id": "1UGoof3t9ehA",
        "outputId": "2db9ae73-3f97-409c-b2e0-c9461151bf14"
      },
      "execution_count": 20,
      "outputs": [
        {
          "output_type": "stream",
          "name": "stdout",
          "text": [
            "<class 'pandas.core.frame.DataFrame'>\n",
            "RangeIndex: 63326 entries, 0 to 63325\n",
            "Data columns (total 11 columns):\n",
            " #   Column                Non-Null Count  Dtype  \n",
            "---  ------                --------------  -----  \n",
            " 0   Agency                63326 non-null  object \n",
            " 1   Agency Type           63326 non-null  object \n",
            " 2   Distribution Channel  63326 non-null  object \n",
            " 3   Product Name          63326 non-null  object \n",
            " 4   Claim                 63326 non-null  object \n",
            " 5   Duration              63326 non-null  int64  \n",
            " 6   Destination           63326 non-null  object \n",
            " 7   Net Sales             63326 non-null  float64\n",
            " 8   Commision (in value)  63326 non-null  float64\n",
            " 9   Gender                18219 non-null  object \n",
            " 10  Age                   63326 non-null  int64  \n",
            "dtypes: float64(2), int64(2), object(7)\n",
            "memory usage: 5.3+ MB\n",
            "None\n"
          ]
        }
      ]
    },
    {
      "cell_type": "markdown",
      "source": [
        "Calculate and display the statistical summary of the numeric columns in the dataset, providing information such as count, mean, standard deviation, minimum, maximum, and quartile values."
      ],
      "metadata": {
        "id": "7HeDOtMn9htf"
      }
    },
    {
      "cell_type": "code",
      "source": [
        "print(data.describe())\n"
      ],
      "metadata": {
        "colab": {
          "base_uri": "https://localhost:8080/"
        },
        "id": "4Nc6TM2b9nf4",
        "outputId": "283a7b80-bd17-4022-c66f-3b9669e74796"
      },
      "execution_count": 21,
      "outputs": [
        {
          "output_type": "stream",
          "name": "stdout",
          "text": [
            "           Duration     Net Sales  Commision (in value)           Age\n",
            "count  63326.000000  63326.000000          63326.000000  63326.000000\n",
            "mean      49.317074     40.702018              9.809992     39.969981\n",
            "std      101.791566     48.845637             19.804388     14.017010\n",
            "min       -2.000000   -389.000000              0.000000      0.000000\n",
            "25%        9.000000     18.000000              0.000000     35.000000\n",
            "50%       22.000000     26.530000              0.000000     36.000000\n",
            "75%       53.000000     48.000000             11.550000     43.000000\n",
            "max     4881.000000    810.000000            283.500000    118.000000\n"
          ]
        }
      ]
    },
    {
      "cell_type": "markdown",
      "source": [
        "Count the unique values in the 'Claim' column of the dataset, giving an idea of the distribution of claim statuses"
      ],
      "metadata": {
        "id": "Sd6OS_2R9p1s"
      }
    },
    {
      "cell_type": "code",
      "source": [
        "print(data['Claim'].value_counts())\n"
      ],
      "metadata": {
        "colab": {
          "base_uri": "https://localhost:8080/"
        },
        "id": "HB3B6qP89vd3",
        "outputId": "b075ed26-a75f-44cd-9ec3-c6c07db5077d"
      },
      "execution_count": 22,
      "outputs": [
        {
          "output_type": "stream",
          "name": "stdout",
          "text": [
            "No     62399\n",
            "Yes      927\n",
            "Name: Claim, dtype: int64\n"
          ]
        }
      ]
    },
    {
      "cell_type": "markdown",
      "source": [
        "**Data Cleaning and Encoding:**"
      ],
      "metadata": {
        "id": "doMCUXaR9yLB"
      }
    },
    {
      "cell_type": "markdown",
      "source": [
        "Remove any row that contain missing values from the dataset."
      ],
      "metadata": {
        "id": "p4g7iqUd92to"
      }
    },
    {
      "cell_type": "code",
      "source": [
        "data = data.dropna()\n"
      ],
      "metadata": {
        "id": "rcfqJt2B97HY"
      },
      "execution_count": 23,
      "outputs": []
    },
    {
      "cell_type": "markdown",
      "source": [
        "Create an instance of the LabelEncoder class to encode the categorical variable 'Claim' as numeric labels."
      ],
      "metadata": {
        "id": "0OAVw828-Au0"
      }
    },
    {
      "cell_type": "code",
      "source": [
        "label_encoder = LabelEncoder()\n",
        "data['Claim'] = label_encoder.fit_transform(data['Claim'])\n"
      ],
      "metadata": {
        "colab": {
          "base_uri": "https://localhost:8080/"
        },
        "id": "Bqkmh0iR-Fg3",
        "outputId": "da47bab7-350f-4172-a1a7-e1a00ea174a9"
      },
      "execution_count": 24,
      "outputs": [
        {
          "output_type": "stream",
          "name": "stderr",
          "text": [
            "<ipython-input-24-3602ad34995c>:2: SettingWithCopyWarning: \n",
            "A value is trying to be set on a copy of a slice from a DataFrame.\n",
            "Try using .loc[row_indexer,col_indexer] = value instead\n",
            "\n",
            "See the caveats in the documentation: https://pandas.pydata.org/pandas-docs/stable/user_guide/indexing.html#returning-a-view-versus-a-copy\n",
            "  data['Claim'] = label_encoder.fit_transform(data['Claim'])\n"
          ]
        }
      ]
    },
    {
      "cell_type": "markdown",
      "source": [
        "**Feature Selection and Encoding:**"
      ],
      "metadata": {
        "id": "BvlgikCp-Hsf"
      }
    },
    {
      "cell_type": "markdown",
      "source": [
        "* Selects the relevant features for modeling by specifying a list of column names and assigns them to **X**.\n",
        "* Selects the target variable 'Claim' and assigns it to **y**."
      ],
      "metadata": {
        "id": "W2AEeLBl-NBo"
      }
    },
    {
      "cell_type": "code",
      "source": [
        "features = ['Agency', 'Agency Type', 'Distribution Channel', 'Product Name', 'Duration', 'Destination', 'Net Sales', 'Commision (in value)', 'Gender', 'Age']\n",
        "X = data[features]\n",
        "y = data['Claim']\n"
      ],
      "metadata": {
        "id": "1hkTqZqM-XYI"
      },
      "execution_count": 25,
      "outputs": []
    },
    {
      "cell_type": "markdown",
      "source": [
        "Perform one-hot encoding on the categorical features in X, converting them into binary columns representing the presence or absence of each category."
      ],
      "metadata": {
        "id": "6jbVEp7z-Zn9"
      }
    },
    {
      "cell_type": "code",
      "source": [
        "X = pd.get_dummies(X)\n"
      ],
      "metadata": {
        "id": "WuTHUc-n-f7a"
      },
      "execution_count": 26,
      "outputs": []
    },
    {
      "cell_type": "markdown",
      "source": [
        "**Model Building and Evaluation:**"
      ],
      "metadata": {
        "id": "XvdVSMHt-io7"
      }
    },
    {
      "cell_type": "markdown",
      "source": [
        "Split the data into training and testing sets, with 80% of the data used for training and 20% for testing. The random_state parameter ensures reproducibility."
      ],
      "metadata": {
        "id": "rVRWOz31-oKv"
      }
    },
    {
      "cell_type": "code",
      "source": [
        "X_train, X_test, y_train, y_test = train_test_split(X, y, test_size=0.2, random_state=42)\n"
      ],
      "metadata": {
        "id": "Quz3u6l2-tWL"
      },
      "execution_count": 27,
      "outputs": []
    },
    {
      "cell_type": "markdown",
      "source": [
        "Create an instance of the RandomForestClassifier model and trains it using the training data (X_train and y_train)."
      ],
      "metadata": {
        "id": "tRNl5QWY-xMd"
      }
    },
    {
      "cell_type": "code",
      "source": [
        "clf = RandomForestClassifier()\n",
        "clf.fit(X_train, y_train)\n"
      ],
      "metadata": {
        "colab": {
          "base_uri": "https://localhost:8080/",
          "height": 75
        },
        "id": "5Hpp6qJp-224",
        "outputId": "f5dfd0a3-5cd9-422d-fdc2-3dc4ce873c96"
      },
      "execution_count": 28,
      "outputs": [
        {
          "output_type": "execute_result",
          "data": {
            "text/plain": [
              "RandomForestClassifier()"
            ],
            "text/html": [
              "<style>#sk-container-id-2 {color: black;background-color: white;}#sk-container-id-2 pre{padding: 0;}#sk-container-id-2 div.sk-toggleable {background-color: white;}#sk-container-id-2 label.sk-toggleable__label {cursor: pointer;display: block;width: 100%;margin-bottom: 0;padding: 0.3em;box-sizing: border-box;text-align: center;}#sk-container-id-2 label.sk-toggleable__label-arrow:before {content: \"▸\";float: left;margin-right: 0.25em;color: #696969;}#sk-container-id-2 label.sk-toggleable__label-arrow:hover:before {color: black;}#sk-container-id-2 div.sk-estimator:hover label.sk-toggleable__label-arrow:before {color: black;}#sk-container-id-2 div.sk-toggleable__content {max-height: 0;max-width: 0;overflow: hidden;text-align: left;background-color: #f0f8ff;}#sk-container-id-2 div.sk-toggleable__content pre {margin: 0.2em;color: black;border-radius: 0.25em;background-color: #f0f8ff;}#sk-container-id-2 input.sk-toggleable__control:checked~div.sk-toggleable__content {max-height: 200px;max-width: 100%;overflow: auto;}#sk-container-id-2 input.sk-toggleable__control:checked~label.sk-toggleable__label-arrow:before {content: \"▾\";}#sk-container-id-2 div.sk-estimator input.sk-toggleable__control:checked~label.sk-toggleable__label {background-color: #d4ebff;}#sk-container-id-2 div.sk-label input.sk-toggleable__control:checked~label.sk-toggleable__label {background-color: #d4ebff;}#sk-container-id-2 input.sk-hidden--visually {border: 0;clip: rect(1px 1px 1px 1px);clip: rect(1px, 1px, 1px, 1px);height: 1px;margin: -1px;overflow: hidden;padding: 0;position: absolute;width: 1px;}#sk-container-id-2 div.sk-estimator {font-family: monospace;background-color: #f0f8ff;border: 1px dotted black;border-radius: 0.25em;box-sizing: border-box;margin-bottom: 0.5em;}#sk-container-id-2 div.sk-estimator:hover {background-color: #d4ebff;}#sk-container-id-2 div.sk-parallel-item::after {content: \"\";width: 100%;border-bottom: 1px solid gray;flex-grow: 1;}#sk-container-id-2 div.sk-label:hover label.sk-toggleable__label {background-color: #d4ebff;}#sk-container-id-2 div.sk-serial::before {content: \"\";position: absolute;border-left: 1px solid gray;box-sizing: border-box;top: 0;bottom: 0;left: 50%;z-index: 0;}#sk-container-id-2 div.sk-serial {display: flex;flex-direction: column;align-items: center;background-color: white;padding-right: 0.2em;padding-left: 0.2em;position: relative;}#sk-container-id-2 div.sk-item {position: relative;z-index: 1;}#sk-container-id-2 div.sk-parallel {display: flex;align-items: stretch;justify-content: center;background-color: white;position: relative;}#sk-container-id-2 div.sk-item::before, #sk-container-id-2 div.sk-parallel-item::before {content: \"\";position: absolute;border-left: 1px solid gray;box-sizing: border-box;top: 0;bottom: 0;left: 50%;z-index: -1;}#sk-container-id-2 div.sk-parallel-item {display: flex;flex-direction: column;z-index: 1;position: relative;background-color: white;}#sk-container-id-2 div.sk-parallel-item:first-child::after {align-self: flex-end;width: 50%;}#sk-container-id-2 div.sk-parallel-item:last-child::after {align-self: flex-start;width: 50%;}#sk-container-id-2 div.sk-parallel-item:only-child::after {width: 0;}#sk-container-id-2 div.sk-dashed-wrapped {border: 1px dashed gray;margin: 0 0.4em 0.5em 0.4em;box-sizing: border-box;padding-bottom: 0.4em;background-color: white;}#sk-container-id-2 div.sk-label label {font-family: monospace;font-weight: bold;display: inline-block;line-height: 1.2em;}#sk-container-id-2 div.sk-label-container {text-align: center;}#sk-container-id-2 div.sk-container {/* jupyter's `normalize.less` sets `[hidden] { display: none; }` but bootstrap.min.css set `[hidden] { display: none !important; }` so we also need the `!important` here to be able to override the default hidden behavior on the sphinx rendered scikit-learn.org. See: https://github.com/scikit-learn/scikit-learn/issues/21755 */display: inline-block !important;position: relative;}#sk-container-id-2 div.sk-text-repr-fallback {display: none;}</style><div id=\"sk-container-id-2\" class=\"sk-top-container\"><div class=\"sk-text-repr-fallback\"><pre>RandomForestClassifier()</pre><b>In a Jupyter environment, please rerun this cell to show the HTML representation or trust the notebook. <br />On GitHub, the HTML representation is unable to render, please try loading this page with nbviewer.org.</b></div><div class=\"sk-container\" hidden><div class=\"sk-item\"><div class=\"sk-estimator sk-toggleable\"><input class=\"sk-toggleable__control sk-hidden--visually\" id=\"sk-estimator-id-2\" type=\"checkbox\" checked><label for=\"sk-estimator-id-2\" class=\"sk-toggleable__label sk-toggleable__label-arrow\">RandomForestClassifier</label><div class=\"sk-toggleable__content\"><pre>RandomForestClassifier()</pre></div></div></div></div></div>"
            ]
          },
          "metadata": {},
          "execution_count": 28
        }
      ]
    },
    {
      "cell_type": "markdown",
      "source": [
        "Use the trained model to make predictions on the testing data (X_test) and assigns the predicted values to y_pred."
      ],
      "metadata": {
        "id": "i-a-nHtG-5J8"
      }
    },
    {
      "cell_type": "code",
      "source": [
        "y_pred = clf.predict(X_test)\n"
      ],
      "metadata": {
        "id": "3eJ7aUbw_CGw"
      },
      "execution_count": 29,
      "outputs": []
    },
    {
      "cell_type": "markdown",
      "source": [
        "Calculate the accuracy of the model by comparing the predicted values (y_pred) with the actual values (y_test) and prints the accuracy score."
      ],
      "metadata": {
        "id": "BWdHVr-B_E0Y"
      }
    },
    {
      "cell_type": "code",
      "source": [
        "accuracy = accuracy_score(y_test, y_pred)\n",
        "print(\"Accuracy:\", accuracy)"
      ],
      "metadata": {
        "colab": {
          "base_uri": "https://localhost:8080/"
        },
        "id": "p0jfVhqB_Jn9",
        "outputId": "a489e2a8-fde4-4d3c-be15-338586c5a131"
      },
      "execution_count": 30,
      "outputs": [
        {
          "output_type": "stream",
          "name": "stdout",
          "text": [
            "Accuracy: 0.9593852908891328\n"
          ]
        }
      ]
    },
    {
      "cell_type": "markdown",
      "source": [
        "Extracting feature importances"
      ],
      "metadata": {
        "id": "R-wXUstVCXKo"
      }
    },
    {
      "cell_type": "code",
      "source": [
        "importances = clf.feature_importances_"
      ],
      "metadata": {
        "id": "pHZv5UmOB9ec"
      },
      "execution_count": 31,
      "outputs": []
    },
    {
      "cell_type": "markdown",
      "source": [
        "Creating a DataFrame to display feature importances"
      ],
      "metadata": {
        "id": "CnQ-Wd4QCe-r"
      }
    },
    {
      "cell_type": "code",
      "source": [
        "feature_importances = pd.DataFrame({'Feature': X.columns, 'Importance': importances})\n",
        "feature_importances = feature_importances.sort_values('Importance', ascending=False)"
      ],
      "metadata": {
        "id": "_8WFRv51CC8r"
      },
      "execution_count": 32,
      "outputs": []
    },
    {
      "cell_type": "markdown",
      "source": [
        "Displaying the critical parameters for claiming insurance"
      ],
      "metadata": {
        "id": "TylFHhtwClRP"
      }
    },
    {
      "cell_type": "code",
      "source": [
        "print(feature_importances)"
      ],
      "metadata": {
        "colab": {
          "base_uri": "https://localhost:8080/"
        },
        "id": "U74cih3mCIAH",
        "outputId": "2e7366ed-f22f-4336-8829-dd45ddccd621"
      },
      "execution_count": 33,
      "outputs": [
        {
          "output_type": "stream",
          "name": "stdout",
          "text": [
            "                      Feature  Importance\n",
            "3                         Age    0.357909\n",
            "0                    Duration    0.326140\n",
            "1                   Net Sales    0.123239\n",
            "2        Commision (in value)    0.122734\n",
            "127                  Gender_M    0.008149\n",
            "..                        ...         ...\n",
            "101          Destination_OMAN    0.000000\n",
            "120  Destination_TURKMENISTAN    0.000000\n",
            "90      Destination_MAURITIUS    0.000000\n",
            "61         Destination_CYPRUS    0.000000\n",
            "54         Destination_BRAZIL    0.000000\n",
            "\n",
            "[128 rows x 2 columns]\n"
          ]
        }
      ]
    }
  ]
}